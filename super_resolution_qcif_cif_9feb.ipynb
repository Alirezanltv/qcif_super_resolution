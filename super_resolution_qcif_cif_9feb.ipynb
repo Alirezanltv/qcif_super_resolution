{
  "nbformat": 4,
  "nbformat_minor": 0,
  "metadata": {
    "colab": {
      "name": "super_resolution_qcif_cif_9feb.ipynb",
      "provenance": [],
      "collapsed_sections": [
        "2q-2nUsUqipX",
        "eii3t0Jrqnle",
        "0eadx54Vq8q2",
        "3qr7dyy9rHIG",
        "DfVAUFtLr3ul"
      ],
      "include_colab_link": true
    },
    "kernelspec": {
      "name": "python3",
      "display_name": "Python 3"
    },
    "language_info": {
      "name": "python"
    }
  },
  "cells": [
    {
      "cell_type": "markdown",
      "metadata": {
        "id": "view-in-github",
        "colab_type": "text"
      },
      "source": [
        "<a href=\"https://colab.research.google.com/github/Alirezanltv/qcif_super_resolution/blob/main/super_resolution_qcif_cif_9feb.ipynb\" target=\"_parent\"><img src=\"https://colab.research.google.com/assets/colab-badge.svg\" alt=\"Open In Colab\"/></a>"
      ]
    },
    {
      "cell_type": "code",
      "execution_count": null,
      "metadata": {
        "id": "DMxo63LZqVbX"
      },
      "outputs": [],
      "source": [
        "# first we should install ffmpeg packages\n",
        "!pip install ffmpeg-python"
      ]
    },
    {
      "cell_type": "markdown",
      "source": [
        "# import libraries"
      ],
      "metadata": {
        "id": "2q-2nUsUqipX"
      }
    },
    {
      "cell_type": "code",
      "source": [
        "import ffmpeg\n",
        "import os\n",
        "from ipywidgets import interact\n",
        "import matplotlib.pyplot as plt\n",
        "import ffmpeg\n",
        "from ipywidgets import widgets\n",
        "import numpy as np\n",
        "import glob\n",
        "import cv2"
      ],
      "metadata": {
        "id": "fmx2cFuCqlS5"
      },
      "execution_count": null,
      "outputs": []
    },
    {
      "cell_type": "markdown",
      "source": [
        "# converting video to bunch of frames\n",
        "\n",
        "video frames are saved in \"frames\" folder"
      ],
      "metadata": {
        "id": "eii3t0Jrqnle"
      }
    },
    {
      "cell_type": "code",
      "source": [
        "os.mkdir('/content/frames')\n",
        "!ffmpeg -i /content/name.hevc '/content/frames/%01d.jpg'"
      ],
      "metadata": {
        "id": "A3fRHJ9RqvuO"
      },
      "execution_count": null,
      "outputs": []
    },
    {
      "cell_type": "markdown",
      "source": [
        "# Super resolution is begun"
      ],
      "metadata": {
        "id": "0eadx54Vq8q2"
      }
    },
    {
      "cell_type": "code",
      "source": [
        "# Clone Real-ESRGAN and enter the Real-ESRGAN\n",
        "!git clone https://github.com/xinntao/Real-ESRGAN.git\n",
        "%cd Real-ESRGAN\n",
        "# Set up the environment\n",
        "!pip install basicsr\n",
        "!pip install facexlib\n",
        "!pip install gfpgan\n",
        "!pip install -r requirements.txt\n",
        "!python setup.py develop\n",
        "# Download the pre-trained model\n",
        "!wget https://github.com/xinntao/Real-ESRGAN/releases/download/v0.1.0/RealESRGAN_x4plus.pth -P experiments/pretrained_models\n"
      ],
      "metadata": {
        "id": "sNIqwXNsrEgW"
      },
      "execution_count": null,
      "outputs": []
    },
    {
      "cell_type": "markdown",
      "source": [
        "# Upload the model of realesrgan and run this command line being in below\n",
        "\n",
        "this model is located in drive and it's called \"inference_realesrgan.py\""
      ],
      "metadata": {
        "id": "3qr7dyy9rHIG"
      }
    },
    {
      "cell_type": "code",
      "source": [
        "!python /content/inference_realesrgan.py --model_path experiments/pretrained_models/RealESRGAN_x4plus.pth --input /content/frames --outscale 3.5 --half --face_enhance"
      ],
      "metadata": {
        "id": "TFGkgvgGrbvj"
      },
      "execution_count": null,
      "outputs": []
    },
    {
      "cell_type": "markdown",
      "source": [
        "# Making video out of frames"
      ],
      "metadata": {
        "id": "DfVAUFtLr3ul"
      }
    },
    {
      "cell_type": "code",
      "source": [
        "# Making  video out of frames\n",
        "import os\n",
        "def save():\n",
        "    os.system(\"ffmpeg -r 4 -i /content/Real-ESRGAN/results/frame%01d_out.jpg -vcodec mpeg4 -y high.mp4\")\n",
        "save()"
      ],
      "metadata": {
        "id": "h1iV3foOr_7e"
      },
      "execution_count": null,
      "outputs": []
    }
  ]
}